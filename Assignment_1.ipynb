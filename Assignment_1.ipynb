{
 "cells": [
  {
   "cell_type": "raw",
   "metadata": {},
   "source": [
    "1. What are the differences between operators and values in the following?\n",
    "*\n",
    "'hello'\n",
    "-87.8\n",
    "-\n",
    "/\n",
    "+\n",
    "6\n"
   ]
  },
  {
   "cell_type": "raw",
   "metadata": {},
   "source": [
    "Ans)\n",
    "* is an Arithmetic Operator.it is used for multipication of two numbers.\n",
    "'hello' is a string.You can asign string to a variable.\n",
    "-87.8 is a negative float.\n",
    "- is an arithmetic operator.it used for subtraction.\n",
    "+ is an arithmetic operator.it is used for addition.\n",
    "6 is an integer"
   ]
  },
  {
   "cell_type": "raw",
   "metadata": {},
   "source": [
    "2. What is the difference between string and variable?\n",
    " spam 'spam'\n"
   ]
  },
  {
   "cell_type": "raw",
   "metadata": {},
   "source": [
    " Ans)\n",
    "A variable as an identifier to store a value in a memory location and to manipulate it if needed.\n",
    "Here spam is a variable name.\n",
    "\n",
    "As far as Python is concerned, anything you assign to a variable using quotes (single or double) will be \n",
    "considered as a string.\n",
    "Here 'spam' is a string.\n"
   ]
  },
  {
   "cell_type": "code",
   "execution_count": null,
   "metadata": {},
   "outputs": [],
   "source": [
    "3. Describe three different data forms.\n"
   ]
  },
  {
   "cell_type": "raw",
   "metadata": {},
   "source": [
    "Ans)\n",
    "Categorical data \n",
    "Numerical data \n",
    "Qualitative Data and Quantitative Data\n"
   ]
  },
  {
   "cell_type": "raw",
   "metadata": {},
   "source": [
    "4.What makes up an expression? What are the functions of all expressions?\n"
   ]
  },
  {
   "cell_type": "raw",
   "metadata": {},
   "source": [
    "Ans)\n",
    "An expression is a combination of values, variables, operators, and calls to functions. Expressions need \n",
    "to be evaluated. If you ask Python to print an expression, the interpreter evaluates the expression and \n",
    "displays the result.\n"
   ]
  },
  {
   "cell_type": "raw",
   "metadata": {},
   "source": [
    "5. In this chapter, assignment statements such as spam = 10 were added. What is the\n",
    "difference between a declaration and an expression?\n"
   ]
  },
  {
   "cell_type": "raw",
   "metadata": {},
   "source": [
    "Ans) \n",
    "Python has no command for declaring a variable.A variable is created the moment you first assign a \n",
    "value to it.Ex: spam=10,x=5.As we know an expression is a combination of values, variables, and \n",
    "operators. If you type an expression on the command line, the interpreter evaluates it and displays the \n",
    "result.\n",
    "Here spam=10 is not a expression.spam=10 is a statement.\n"
   ]
  },
  {
   "cell_type": "raw",
   "metadata": {},
   "source": [
    "6. After running the following code, what does the variable bacon contain?\n",
    "bacon = 22\n",
    "bacon + 1"
   ]
  },
  {
   "cell_type": "raw",
   "metadata": {},
   "source": [
    "Ans) \n",
    "variable bacon contain 22"
   ]
  },
  {
   "cell_type": "code",
   "execution_count": null,
   "metadata": {},
   "outputs": [],
   "source": [
    "7. What should the values of the following two terms be\n",
    "'spam'+ 'spamspam'\n",
    "'spam' * 3"
   ]
  },
  {
   "cell_type": "raw",
   "metadata": {},
   "source": [
    "Ans)\n",
    "For both value should be 'spamspamspam'\n"
   ]
  },
  {
   "cell_type": "raw",
   "metadata": {},
   "source": [
    "8. Why is it that eggs is a true variable name but 100 is not?\n"
   ]
  },
  {
   "cell_type": "raw",
   "metadata": {},
   "source": [
    "Ans) \n",
    "100 is not a variable name beacuse variable name not starts with digit.Where eggs follows all \n",
    "rules of variable(identifiers) creation.\n"
   ]
  },
  {
   "cell_type": "raw",
   "metadata": {},
   "source": [
    "9. Which of the following three functions may be used to convert a value to an integer, a\n",
    "floating-point number, or a string?"
   ]
  },
  {
   "cell_type": "raw",
   "metadata": {},
   "source": [
    "Ans)\n",
    "int () - We can use int() function to convert values from other types to int\n",
    "float() -We can use float() function to convert other type values to float type.\n",
    "str() -We can use str() method to convert other type values to str type.\n"
   ]
  },
  {
   "cell_type": "raw",
   "metadata": {},
   "source": [
    "10. What is the error caused by this expression? What would you do about it.\n",
    "'I have eaten'+99+'burritos'\n"
   ]
  },
  {
   "cell_type": "raw",
   "metadata": {},
   "source": [
    "Ans)\n",
    "There is a type error.We can only concatenate str (not \"int\") to str."
   ]
  },
  {
   "cell_type": "code",
   "execution_count": null,
   "metadata": {},
   "outputs": [],
   "source": []
  }
 ],
 "metadata": {
  "kernelspec": {
   "display_name": "Python 3",
   "language": "python",
   "name": "python3"
  },
  "language_info": {
   "codemirror_mode": {
    "name": "ipython",
    "version": 3
   },
   "file_extension": ".py",
   "mimetype": "text/x-python",
   "name": "python",
   "nbconvert_exporter": "python",
   "pygments_lexer": "ipython3",
   "version": "3.8.5"
  }
 },
 "nbformat": 4,
 "nbformat_minor": 4
}
