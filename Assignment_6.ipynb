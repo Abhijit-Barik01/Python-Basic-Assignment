{
 "cells": [
  {
   "cell_type": "code",
   "execution_count": 23,
   "metadata": {},
   "outputs": [
    {
     "name": "stdout",
     "output_type": "stream",
     "text": [
      "Hello\n",
      "How are you?\n",
      "Hello\tHow are you?\n",
      "How to print single quotes? 'Single quotes'\n",
      "How to print double quotes? \"Double quotes\" \n",
      "How to print back slash? \\Black slash\\ \n"
     ]
    }
   ],
   "source": [
    "#1. What are escape characters, and how do you use them?\n",
    "#(Ans)\n",
    "#  \\n, \\t,\\', \\\" , \\\\\n",
    "\n",
    "\n",
    "print(\"Hello\\nHow are you?\")\n",
    "print(\"Hello\\tHow are you?\")\n",
    "print(\"How to print single quotes? \\'Single quotes\\'\")\n",
    "print(\"How to print double quotes? \\\"Double quotes\\\" \")\n",
    "print(\"How to print back slash? \\\\Black slash\\\\ \")\n"
   ]
  },
  {
   "cell_type": "code",
   "execution_count": 24,
   "metadata": {},
   "outputs": [],
   "source": [
    "#2. What do the escape characters n and t stand for?\n",
    "#(Ans) New line - \"\\n\", Tab - \"\\t\""
   ]
  },
  {
   "cell_type": "code",
   "execution_count": 25,
   "metadata": {},
   "outputs": [
    {
     "name": "stdout",
     "output_type": "stream",
     "text": [
      "How to print back slash? \\Black slash\\ \n"
     ]
    }
   ],
   "source": [
    "#3. What is the way to include backslash characters in a string?\n",
    "#(A) Escape it with another \"\\\"\n",
    "\n",
    "print(\"How to print back slash? \\\\Black slash\\\\ \")"
   ]
  },
  {
   "cell_type": "code",
   "execution_count": 26,
   "metadata": {},
   "outputs": [],
   "source": [
    "#4. The string \"Howl's Moving Castle\" is a correct value. Why isn't the single quote character in the word Howl's not escaped a problem?\n",
    "#(Ans) It is not a problem as the entire string is enclosed within a double quotes."
   ]
  },
  {
   "cell_type": "code",
   "execution_count": 27,
   "metadata": {},
   "outputs": [
    {
     "name": "stdout",
     "output_type": "stream",
     "text": [
      "Hello \n",
      "How are you?\n",
      "I am fine\n"
     ]
    }
   ],
   "source": [
    "#5. How do you write a string of newlines if you don't want to use the n character?\n",
    "#(A) \n",
    "print('''Hello \n",
    "How are you?\n",
    "I am fine''')"
   ]
  },
  {
   "cell_type": "code",
   "execution_count": 29,
   "metadata": {},
   "outputs": [
    {
     "name": "stdout",
     "output_type": "stream",
     "text": [
      "e\n",
      "Hello\n",
      "Hello\n",
      "lo, world!\n"
     ]
    }
   ],
   "source": [
    "#6. What are the values of the given expressions?\n",
    "#(Ans)\n",
    "print ('Hello, world!'[1])\n",
    "#(Ans) e\n",
    "\n",
    "print('Hello, world!'[0:5])\n",
    "#(Ans) Hello\n",
    "\n",
    "print('Hello, world!'[:5])\n",
    "#(Ans) Hello\n",
    "\n",
    "print('Hello, world!'[3:])\n",
    "#(Ans) lo, world!"
   ]
  },
  {
   "cell_type": "code",
   "execution_count": 31,
   "metadata": {},
   "outputs": [
    {
     "name": "stdout",
     "output_type": "stream",
     "text": [
      "HELLO\n",
      "True\n",
      "hello\n"
     ]
    }
   ],
   "source": [
    "#7. What are the values of the following expressions?\n",
    "#(Ans)\n",
    "print('Hello'.upper())\n",
    "#(Ans) HELLO\n",
    "\n",
    "print('Hello'.upper().isupper())\n",
    "#(Ans) True\n",
    "\n",
    "print('Hello'.upper().lower())\n",
    "#(Ans) hello"
   ]
  },
  {
   "cell_type": "code",
   "execution_count": 33,
   "metadata": {},
   "outputs": [
    {
     "name": "stdout",
     "output_type": "stream",
     "text": [
      "['Remember,', 'remember,', 'the', 'fifth', 'of', 'July.']\n",
      "There-can-only-one.\n"
     ]
    }
   ],
   "source": [
    "#8. What are the values of the following expressions?\n",
    "\n",
    "print('Remember, remember, the fifth of July.'.split())\n",
    "#(Ans) ['Remember,', 'remember,', 'the', 'fifth', 'of', 'July.']\n",
    "\n",
    "\n",
    "print('-'.join('There can only one.'.split()))\n",
    "#(Ans) There-can-only-one."
   ]
  },
  {
   "cell_type": "code",
   "execution_count": 42,
   "metadata": {},
   "outputs": [
    {
     "name": "stdout",
     "output_type": "stream",
     "text": [
      "Left justified                                                                                                                                                                                                                                                                                              \n",
      "                                                       Right justified\n",
      "            Centre justified            \n"
     ]
    }
   ],
   "source": [
    "#9. What are the methods for right-justifying, left-justifying, and centering a string?\n",
    "#(A)\n",
    "str= \"Left justified\"\n",
    "str1=\"Right justified\"\n",
    "str2=\"Centre justified\"\n",
    "\n",
    "print(str.ljust(300))\n",
    "print(str1.rjust(70))\n",
    "print(str2.center(40))"
   ]
  },
  {
   "cell_type": "code",
   "execution_count": 43,
   "metadata": {},
   "outputs": [
    {
     "name": "stdout",
     "output_type": "stream",
     "text": [
      "Using strip() function:\n",
      " This contains whitespaces in the front and at the end.\n"
     ]
    }
   ],
   "source": [
    "#10. What is the best way to remove whitespace characters from the start or end?\n",
    "#(Ans)\n",
    "\n",
    "text=\" This contains whitespaces in the front and at the end.    \" \n",
    "#print(\"Using lstrip() and rstrip() functions: \\n\",(text.lstrip()).rstrip(), end=2*\"\\n\")\n",
    "print(\"Using strip() function:\\n\", text.strip(), end=\"\\n\")"
   ]
  },
  {
   "cell_type": "code",
   "execution_count": null,
   "metadata": {},
   "outputs": [],
   "source": []
  }
 ],
 "metadata": {
  "kernelspec": {
   "display_name": "Python 3",
   "language": "python",
   "name": "python3"
  },
  "language_info": {
   "codemirror_mode": {
    "name": "ipython",
    "version": 3
   },
   "file_extension": ".py",
   "mimetype": "text/x-python",
   "name": "python",
   "nbconvert_exporter": "python",
   "pygments_lexer": "ipython3",
   "version": "3.8.5"
  }
 },
 "nbformat": 4,
 "nbformat_minor": 4
}
