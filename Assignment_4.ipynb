{
 "cells": [
  {
   "cell_type": "raw",
   "metadata": {},
   "source": [
    "1. What exactly is []?"
   ]
  },
  {
   "cell_type": "raw",
   "metadata": {},
   "source": [
    "ANS) [] is called a list.It can hold collection of homogeneous or Heterogeneous set of data types."
   ]
  },
  {
   "cell_type": "raw",
   "metadata": {},
   "source": [
    "2. In a list of values stored in a variable called spam, how would you assign the value 'hello' as the third value? (Assume [2, 4, 6, 8, 10] are in spam.)"
   ]
  },
  {
   "cell_type": "code",
   "execution_count": 1,
   "metadata": {},
   "outputs": [
    {
     "name": "stdout",
     "output_type": "stream",
     "text": [
      "[2, 4, 6, 8, 10]\n",
      "[2, 4, 'Hello', 6, 8, 10]\n"
     ]
    }
   ],
   "source": [
    "spam=[2, 4, 6, 8, 10]\n",
    "print(spam)\n",
    "spam.insert(2,\"Hello\")\n",
    "print(spam)"
   ]
  },
  {
   "cell_type": "raw",
   "metadata": {},
   "source": [
    "Let's pretend the spam includes the list ['a', 'b', 'c', 'd'] for the next three queries.\n",
    "3. What is the value of spam[int(int('3' * 2) / 11)]?\n",
    "4. What is the value of spam[-1]?\n",
    "5. What is the value of spam[:2]?\n"
   ]
  },
  {
   "cell_type": "code",
   "execution_count": 2,
   "metadata": {},
   "outputs": [
    {
     "name": "stdout",
     "output_type": "stream",
     "text": [
      "d\n",
      "d\n",
      "['a', 'b']\n"
     ]
    }
   ],
   "source": [
    "spam= ['a', 'b', 'c', 'd']\n",
    "\n",
    "print(spam[int(int('3' * 2) / 11)])\n",
    "\n",
    "print(spam[-1])\n",
    "\n",
    "print(spam[:2])"
   ]
  },
  {
   "cell_type": "raw",
   "metadata": {},
   "source": [
    "Let's pretend bacon has the list [3.14, 'cat,' 11, 'cat,' True] for the next three questions.\n",
    "6. What is the value of bacon.index('cat')?\n",
    "7. How does bacon.append(99) change the look of the list value in bacon?\n",
    "8. How does bacon.remove('cat') change the look of the list in bacon?\n"
   ]
  },
  {
   "cell_type": "code",
   "execution_count": 5,
   "metadata": {},
   "outputs": [
    {
     "name": "stdout",
     "output_type": "stream",
     "text": [
      "1\n",
      "[3.14, 'cat', '11', 'cat', True, 99]\n",
      "[3.14, '11', 'cat', True, 99]\n"
     ]
    }
   ],
   "source": [
    "\n",
    "bacon = [3.14, 'cat','11', 'cat', True]\n",
    "print(bacon.index('cat'))\n",
    "bacon.append(99)\n",
    "print(bacon)\n",
    "bacon.remove('cat')\n",
    "print(bacon)"
   ]
  },
  {
   "cell_type": "raw",
   "metadata": {},
   "source": [
    "9. What are the list concatenation and list replication operators?"
   ]
  },
  {
   "cell_type": "code",
   "execution_count": 6,
   "metadata": {},
   "outputs": [
    {
     "name": "stdout",
     "output_type": "stream",
     "text": [
      "[3.14, 'cat', '11', 'cat', True, 'a', 'b', 'c', 'd']\n",
      "[3.14, 'cat', '11', 'cat', True, 3.14, 'cat', '11', 'cat', True, 3.14, 'cat', '11', 'cat', True]\n"
     ]
    }
   ],
   "source": [
    "#List concatenation\n",
    "l1=[3.14, 'cat','11', 'cat', True] + ['a', 'b', 'c', 'd']\n",
    "print(l1)\n",
    "\n",
    "#List replication\n",
    "l1=[3.14, 'cat','11', 'cat', True]\n",
    "l2=l1*3\n",
    "print(l2)"
   ]
  },
  {
   "cell_type": "raw",
   "metadata": {},
   "source": [
    "10. What is difference between the list methods append() and insert()?"
   ]
  },
  {
   "cell_type": "code",
   "execution_count": 7,
   "metadata": {},
   "outputs": [
    {
     "name": "stdout",
     "output_type": "stream",
     "text": [
      "[3.14, 'cat', '11', 'cat', True]\n",
      "[3.14, 'cat', '11', 'cat', True, 'Append']\n",
      "[3.14, 'cat', '11', 'Insert', 'cat', True, 'Append']\n"
     ]
    }
   ],
   "source": [
    "l1=[3.14, 'cat','11', 'cat', True]\n",
    "print(l1)\n",
    "#append(value) method takes one input and adds or concatenates it at the end of list\n",
    "l1.append(\"Append\")\n",
    "print(l1)\n",
    "#insert() method takes two inputs, an index value and an object and puts or inserst the object just before \n",
    "#that index value in the list.\n",
    "l1.insert(3,\"Insert\")\n",
    "print(l1)"
   ]
  },
  {
   "cell_type": "raw",
   "metadata": {},
   "source": [
    "11. What are the two methods for removing items from a list?"
   ]
  },
  {
   "cell_type": "code",
   "execution_count": 8,
   "metadata": {},
   "outputs": [
    {
     "name": "stdout",
     "output_type": "stream",
     "text": [
      "[3.14, 'cat', '11', 'cat', True]\n",
      "[3.14, 'cat', '11', 'cat']\n",
      "[3.14, 'cat', 'cat']\n"
     ]
    }
   ],
   "source": [
    "#the two methods for removing items from a list are remove and pop\n",
    "l1=[3.14, 'cat','11', 'cat', True]\n",
    "print(l1)\n",
    "l1.remove(True)\n",
    "print(l1)\n",
    "l1.pop(2)\n",
    "print(l1)"
   ]
  },
  {
   "cell_type": "raw",
   "metadata": {},
   "source": [
    "12. Describe how list values and string values are identical."
   ]
  },
  {
   "cell_type": "raw",
   "metadata": {},
   "source": [
    "Ans)Strings and Lists are collection of ordered items . But strings are Immutable and Lists are mutable"
   ]
  },
  {
   "cell_type": "raw",
   "metadata": {},
   "source": [
    "13. What's the difference between tuples and lists?"
   ]
  },
  {
   "cell_type": "raw",
   "metadata": {},
   "source": [
    "Ans)Tuples and Lists are ordered collection of items which are  iterable.But tuples are Immutable and Lists are mutable"
   ]
  },
  {
   "cell_type": "raw",
   "metadata": {},
   "source": [
    "14. How do you type a tuple value that only contains the integer 42?"
   ]
  },
  {
   "cell_type": "code",
   "execution_count": 12,
   "metadata": {},
   "outputs": [
    {
     "data": {
      "text/plain": [
       "tuple"
      ]
     },
     "execution_count": 12,
     "metadata": {},
     "output_type": "execute_result"
    }
   ],
   "source": [
    "l=(42,)\n",
    "type(l)"
   ]
  },
  {
   "cell_type": "raw",
   "metadata": {},
   "source": [
    "15. How do you get a list value's tuple form? How do you get a tuple value's list form?\n"
   ]
  },
  {
   "cell_type": "code",
   "execution_count": 15,
   "metadata": {},
   "outputs": [
    {
     "name": "stdout",
     "output_type": "stream",
     "text": [
      "[2, 20, 500, 'True']\n"
     ]
    }
   ],
   "source": [
    "tp=(2,20,500,\"True\")\n",
    "l=list(tp)\n",
    "print(l)"
   ]
  },
  {
   "cell_type": "raw",
   "metadata": {},
   "source": [
    "16. Variables that \"contain\" list values are not necessarily lists themselves. Instead, what do they contain?\n"
   ]
  },
  {
   "cell_type": "code",
   "execution_count": 16,
   "metadata": {},
   "outputs": [
    {
     "name": "stdout",
     "output_type": "stream",
     "text": [
      "2071129465152\n"
     ]
    }
   ],
   "source": [
    "#It contains the reference to the list value\n",
    "l=[1,2,3,4,\"string\"]\n",
    "print(id(l))"
   ]
  },
  {
   "cell_type": "raw",
   "metadata": {},
   "source": [
    "17. How do you distinguish between copy.copy() and copy.deepcopy()?"
   ]
  },
  {
   "cell_type": "code",
   "execution_count": 1,
   "metadata": {},
   "outputs": [
    {
     "name": "stdout",
     "output_type": "stream",
     "text": [
      "Initial elements in list l1 before shallow copy\n",
      "['hello', 6, [True, False], 8]\n",
      "\n",
      "\n",
      "Elements in list l2 which is a shallow copy of list l1\n",
      "['hello', 6, [True, False], 8]\n",
      "\n",
      "\n",
      "Elements in list l2 after adding new element into list l2\n",
      "['hello', 6, ['Shallow_copy', False], 8]\n",
      "\n",
      "\n",
      "Elements in l1 after adding new element into the Shallow copy list l2\n",
      "['hello', 6, ['Shallow_copy', False], 8]\n",
      "\n",
      "\n",
      "\n",
      "Initial elements in list l1 before deep copying\n",
      "['hello', 6, [True, False], 8]\n",
      "\n",
      "\n",
      "Elements in list l2 which is a deep copy of list l1\n",
      "['hello', 6, [True, False], 8]\n",
      "\n",
      "\n",
      "Elements in list l2 after adding new element into list l2\n",
      "['hello', 6, [True, 'Deep Copy'], 8]\n",
      "\n",
      "\n",
      "Elements in l1 after adding new element into the deep copy list l2\n",
      "['hello', 6, [True, False], 8]\n"
     ]
    }
   ],
   "source": [
    "#copy.copy()\n",
    "\n",
    "# A shallow copy means constructing a new collection object and then populating it with references to the \n",
    "# child objects found in the original. The copying process doesn’t create copies \n",
    "# of the child objects themselves. In case of shallow copy, a reference of object is copied in other object.\n",
    "# It means that any changes made to a copy of object do reflect in the original object.\n",
    "\n",
    "import copy\n",
    "  \n",
    "# list 1\n",
    "l1 = [\"hello\", 6, [True,False], 8]\n",
    "  \n",
    "# using deepcopy function to create a deep copy \n",
    "l2 = copy.copy(l1)\n",
    "  \n",
    "\n",
    "print (\"Initial elements in list l1 before shallow copy\")\n",
    "print(l1)\n",
    "  \n",
    "print(\"\\n\")\n",
    "\n",
    "print (\"Elements in list l2 which is a shallow copy of list l1\")\n",
    "print(l2)\n",
    "\n",
    "print(\"\\n\")\n",
    "# adding an element to new list l2\n",
    "l2[2][0]=\"Shallow_copy\"\n",
    "  \n",
    "# values in list l2 after adding new element \n",
    "print (\"Elements in list l2 after adding new element into list l2\")\n",
    "print(l2)\n",
    "  \n",
    "print(\"\\n\")\n",
    "\n",
    "# Changes in l2 is not reflected in original list l1, as l2 is a deep copy\n",
    "print (\"Elements in l1 after adding new element into the Shallow copy list l2\")\n",
    "print(l1)\n",
    "\n",
    "\n",
    "print(\"\\n\"*2)\n",
    "\n",
    "#Deep copy\n",
    "\n",
    "# Deep copy is a process in which the copying process occurs recursively. It means first constructing a \n",
    "# new collection object and then recursively populates it with copies of the child objects found in the original.\n",
    "# In case of deep copy, a copy of object is copied in other object. \n",
    "# It means that any changes made to a copy of object do not reflect in the original object and vice versa.\n",
    "\n",
    "import copy\n",
    "  \n",
    "# list 1\n",
    "l1 = [\"hello\", 6, [True,False], 8]\n",
    "  # using deepcopy function to create a deep copy \n",
    "l2 = copy.deepcopy(l1)\n",
    "  \n",
    "\n",
    "print (\"Initial elements in list l1 before deep copying\")\n",
    "print(l1)\n",
    "  \n",
    "print(\"\\n\")\n",
    "\n",
    "print (\"Elements in list l2 which is a deep copy of list l1\")\n",
    "print(l2)\n",
    "\n",
    "print(\"\\n\")\n",
    "\n",
    "# adding an element to new list\n",
    "l2[2][1] = \"Deep Copy\"\n",
    "  \n",
    "# values after adding element in l2 \n",
    "print (\"Elements in list l2 after adding new element into list l2\")\n",
    "print(l2)\n",
    "  \n",
    "print(\"\\n\")\n",
    "\n",
    "# Changes in l2 is not reflected in original list l1, as l2 is a deep copy\n",
    "print (\"Elements in l1 after adding new element into the deep copy list l2\")\n",
    "print(l1)"
   ]
  },
  {
   "cell_type": "code",
   "execution_count": null,
   "metadata": {},
   "outputs": [],
   "source": []
  }
 ],
 "metadata": {
  "kernelspec": {
   "display_name": "Python 3",
   "language": "python",
   "name": "python3"
  },
  "language_info": {
   "codemirror_mode": {
    "name": "ipython",
    "version": 3
   },
   "file_extension": ".py",
   "mimetype": "text/x-python",
   "name": "python",
   "nbconvert_exporter": "python",
   "pygments_lexer": "ipython3",
   "version": "3.8.5"
  }
 },
 "nbformat": 4,
 "nbformat_minor": 4
}
