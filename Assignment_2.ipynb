{
 "cells": [
  {
   "cell_type": "raw",
   "metadata": {},
   "source": [
    "1.What are the two values of the Boolean data type? How do you write them?"
   ]
  },
  {
   "cell_type": "raw",
   "metadata": {},
   "source": [
    "Ans)\n",
    "Two boolean data types are True or False. Notice that 'T' and 'F' are capital.true and false are not valid \n",
    "booleans and Python will throw an error for them.Internally Python represents True as 1 and False as 0\n"
   ]
  },
  {
   "cell_type": "raw",
   "metadata": {},
   "source": [
    "2.What are the three different types of Boolean operators?\n"
   ]
  },
  {
   "cell_type": "raw",
   "metadata": {},
   "source": [
    "Ans) \n",
    "and , or , not"
   ]
  },
  {
   "cell_type": "raw",
   "metadata": {},
   "source": [
    "3. Make a list of each Boolean operators truth tables (i.e. every possible combination of Boolean values for the operator and what it evaluate ).\n"
   ]
  },
  {
   "cell_type": "raw",
   "metadata": {},
   "source": [
    "Ans)\n",
    "Truth table of and operator:-\n",
    "A B   A and B\n",
    "0 0     0\n",
    "0 1     0\n",
    "1 0     0\n",
    "1 1     1\n",
    "\n",
    "Truth table of or operator:-\n",
    "A B  A or B\n",
    "0 0    0\n",
    "0 1    1\n",
    "1 0    1\n",
    "1 1    1\n",
    "\n",
    "Truth Table of not\n",
    "A  not A\n",
    "0    1\n",
    "1    0\n"
   ]
  },
  {
   "cell_type": "raw",
   "metadata": {},
   "source": [
    "4. What are the values of the following expressions?\n",
    "(5 > 4) and (3 == 5)\n",
    "not (5 >4)\n",
    "(5 > 4) or (3 == 5)\n",
    "not ((5 >4) or (3 == 5))\n",
    "(True and True) and (True == False)\n",
    "(not False) or (not True)"
   ]
  },
  {
   "cell_type": "raw",
   "metadata": {},
   "source": [
    "Ans)\n",
    "\n",
    "(5 > 4) and (3 == 5) output: False\n",
    "    \n",
    "not (5 >4) output: False\n",
    "    \n",
    "(5 > 4) or (3 == 5) output: True\n",
    "    \n",
    "(True and True) and (True == False) output: False\n",
    "    \n",
    "(not False) or (not True) output: True"
   ]
  },
  {
   "cell_type": "raw",
   "metadata": {},
   "source": [
    "5. What are the six comparison operators?"
   ]
  },
  {
   "cell_type": "raw",
   "metadata": {},
   "source": [
    "Ans)\n",
    "> , >= , < , <= , ==, !="
   ]
  },
  {
   "cell_type": "raw",
   "metadata": {},
   "source": [
    "6. How do you tell the difference between the equal to and assignment operators?Describe a\n",
    "condition and when you would use one.\n",
    "\n"
   ]
  },
  {
   "cell_type": "raw",
   "metadata": {},
   "source": [
    "Ans)\n",
    "The differences can be shown in tabular form as follows:\n",
    "    \n",
    "    =                                                              ==\n",
    "It is an assignment operator.                       It is a relational or comparison operator.\n",
    "\n",
    "It is used for assigning the value to a variable.   It is used for comparing two values. It \n",
    "                                                    returns 1 if both the values are equal otherwise returns 0.\n",
    "Example: 1=x; is invalid.                           Example: 1==1 is valid and returns 1.\n",
    "        \n",
    "Python implementation:-\n",
    "    \n",
    "a=10\n",
    "b=10\n",
    "print(a)\n",
    "if(a ==b): \n",
    " print(\"equal\")\n",
    "\n",
    "\n",
    "\n"
   ]
  },
  {
   "cell_type": "raw",
   "metadata": {},
   "source": [
    "7. Identify the three blocks in this code:\n",
    "spam = 0\n",
    "if spam == 10:\n",
    "print('eggs')\n",
    "if spam > 5:\n",
    "print('bacon')\n",
    "else:\n",
    "print('ham')\n",
    "print('spam')\n",
    "print('spam')"
   ]
  },
  {
   "cell_type": "code",
   "execution_count": 4,
   "metadata": {},
   "outputs": [
    {
     "name": "stdout",
     "output_type": "stream",
     "text": [
      "ham\n",
      "spam\n",
      "spam\n"
     ]
    }
   ],
   "source": [
    "#Ans)\n",
    "spam = 0\n",
    "if spam == 10: # if blockprint('eggs')\n",
    "    print('eggs')\n",
    "if spam > 5: # if block\n",
    "    print('bacon')\n",
    "else: #else block\n",
    "    print('ham')\n",
    "    print('spam')\n",
    "    print('spam')"
   ]
  },
  {
   "cell_type": "raw",
   "metadata": {},
   "source": [
    "8. Write code that prints Hello if 1 is stored in spam, prints Howdy if 2 is stored in spam, and prints \n",
    "Greetings! if anything else is stored in spam."
   ]
  },
  {
   "cell_type": "code",
   "execution_count": 6,
   "metadata": {},
   "outputs": [
    {
     "name": "stdout",
     "output_type": "stream",
     "text": [
      "enter the number1\n",
      "Hello\n"
     ]
    }
   ],
   "source": [
    "#Ans)\n",
    "spam=int(input(\"enter the number\"))\n",
    "if spam==1:\n",
    "    print(\"Hello\")\n",
    "elif spam==2:\n",
    "    print(\"Howdy\")\n",
    "else:\n",
    "    print(\"Greetings!\" )"
   ]
  },
  {
   "cell_type": "raw",
   "metadata": {},
   "source": [
    "9.If your programme is stuck in an endless loop, what keys you’ll press?\n",
    "\n"
   ]
  },
  {
   "cell_type": "raw",
   "metadata": {},
   "source": [
    "Ans) \n",
    "You can press Ctrl + C ."
   ]
  },
  {
   "cell_type": "raw",
   "metadata": {},
   "source": [
    "10. How can you tell the difference between break and continue?"
   ]
  },
  {
   "cell_type": "raw",
   "metadata": {},
   "source": [
    "Ans)\n",
    "Break statement:-\n",
    "                The break statement is used to terminate the loop or statement in which it is present. After that, the \n",
    "control will pass to the statements that are present after the break statement, if available. If the break \n",
    "statement is present in the nested loop, then it terminates only that loop which \n",
    "contains break statement.\n",
    "\n",
    "Continue statement:-\n",
    "                    Continue is also a loop control statement just like the break statement. Continue statement is \n",
    "opposite to that of break statement, instead of terminating the loop, it forces to execute the next iteration \n",
    "of the loop.As the name suggests the continue statement forces the loop to continue or execute the next \n",
    "iteration. When the continue statement is executed in the loop, the code inside the loop following the \n",
    "continue statement will be skipped and the next iteration of the loop will begin.\n"
   ]
  },
  {
   "cell_type": "raw",
   "metadata": {},
   "source": [
    "11. In a for loop, what is the difference between range(10), range(0, 10), and range(0, 10, 1)?\n"
   ]
  },
  {
   "cell_type": "raw",
   "metadata": {},
   "source": [
    "Ans)\n",
    "range (10) ->here stop=10.By default starting index=0 and step=1.step and stop changable\n",
    "Output:\n",
    "0 1 2 3 4 5 6 7 8 9\n",
    "range (0, 10) ->here start=0 ,stop=10\n",
    "Output:\n",
    "0 1 2 3 4 5 6 7 8 9\n",
    "range (0, 10,1) ->here start=0, stop=10, step=1\n",
    "Output:\n",
    "0 1 2 3 4 5 6 7 8 9\n"
   ]
  },
  {
   "cell_type": "raw",
   "metadata": {},
   "source": [
    "12. Write a short program that prints the numbers 1 to 10 using a for loop. Then write an equivalent \n",
    "program that prints the numbers 1 to 10 using a while loop.\n"
   ]
  },
  {
   "cell_type": "code",
   "execution_count": 22,
   "metadata": {
    "scrolled": false
   },
   "outputs": [
    {
     "name": "stdout",
     "output_type": "stream",
     "text": [
      "using for loop \n",
      "1 2 3 4 5 6 7 8 9 10 using while loop\n",
      "1 2 3 4 5 6 7 8 9 10 "
     ]
    }
   ],
   "source": [
    "# Ans)\n",
    "print(\"using for loop \")\n",
    "for i in range(1,11,1): \n",
    "    print(i, end =\" \")\n",
    "   \n",
    "print(\"using while loop\")\n",
    "i=1\n",
    "while i < 11:\n",
    "    print(i, end =\" \")\n",
    "    i=i+1"
   ]
  },
  {
   "cell_type": "raw",
   "metadata": {},
   "source": [
    "13. If you had a function named bacon() inside a module named spam, how would you call it after importing spam?"
   ]
  },
  {
   "cell_type": "code",
   "execution_count": null,
   "metadata": {},
   "outputs": [],
   "source": [
    "Ans)\n",
    " import spam\n",
    " spam. bacon()"
   ]
  }
 ],
 "metadata": {
  "kernelspec": {
   "display_name": "Python 3",
   "language": "python",
   "name": "python3"
  },
  "language_info": {
   "codemirror_mode": {
    "name": "ipython",
    "version": 3
   },
   "file_extension": ".py",
   "mimetype": "text/x-python",
   "name": "python",
   "nbconvert_exporter": "python",
   "pygments_lexer": "ipython3",
   "version": "3.8.5"
  }
 },
 "nbformat": 4,
 "nbformat_minor": 4
}
