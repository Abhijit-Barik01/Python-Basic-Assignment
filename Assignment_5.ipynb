{
 "cells": [
  {
   "cell_type": "code",
   "execution_count": 1,
   "metadata": {},
   "outputs": [
    {
     "name": "stdout",
     "output_type": "stream",
     "text": [
      "<class 'dict'>\n",
      "{}\n"
     ]
    }
   ],
   "source": [
    "#1. What does an empty dictionary's code look like?\n",
    "dict1={}\n",
    "print(type (dict1))\n",
    "print (dict1)"
   ]
  },
  {
   "cell_type": "code",
   "execution_count": 3,
   "metadata": {},
   "outputs": [
    {
     "name": "stdout",
     "output_type": "stream",
     "text": [
      "dict_values([42])\n",
      "{'foo': 42}\n"
     ]
    }
   ],
   "source": [
    "\n",
    "#2. What is the value of a dictionary value with the key 'foo' and the value 42?\n",
    "dict2= {'foo':42}\n",
    "print(dict2.values())\n",
    "print(dict2)"
   ]
  },
  {
   "cell_type": "code",
   "execution_count": 5,
   "metadata": {},
   "outputs": [],
   "source": [
    "#3. What is the most significant distinction between a dictionary and a list?\n",
    "\n",
    "#ANS)\n",
    "#Dictionary cotains Key value pairs of elements which are Unordered, mutable.\n",
    "#List contains elements which are ordered,imutable and iterable."
   ]
  },
  {
   "cell_type": "code",
   "execution_count": 7,
   "metadata": {},
   "outputs": [
    {
     "ename": "KeyError",
     "evalue": "'foo'",
     "output_type": "error",
     "traceback": [
      "\u001b[1;31m---------------------------------------------------------------------------\u001b[0m",
      "\u001b[1;31mKeyError\u001b[0m                                  Traceback (most recent call last)",
      "\u001b[1;32m<ipython-input-7-dfb6e0aa356f>\u001b[0m in \u001b[0;36m<module>\u001b[1;34m\u001b[0m\n\u001b[0;32m      1\u001b[0m \u001b[1;31m#4. What happens if you try to access spam[&#39;foo&#39;] if spam is {&#39;bar&#39;: 100}?\u001b[0m\u001b[1;33m\u001b[0m\u001b[1;33m\u001b[0m\u001b[1;33m\u001b[0m\u001b[0m\n\u001b[0;32m      2\u001b[0m \u001b[0mspam\u001b[0m \u001b[1;33m=\u001b[0m \u001b[1;33m{\u001b[0m\u001b[1;34m'bar'\u001b[0m\u001b[1;33m:\u001b[0m\u001b[1;36m100\u001b[0m\u001b[1;33m}\u001b[0m\u001b[1;33m\u001b[0m\u001b[1;33m\u001b[0m\u001b[0m\n\u001b[1;32m----> 3\u001b[1;33m \u001b[0mspam\u001b[0m\u001b[1;33m[\u001b[0m\u001b[1;34m'foo'\u001b[0m\u001b[1;33m]\u001b[0m\u001b[1;33m\u001b[0m\u001b[1;33m\u001b[0m\u001b[0m\n\u001b[0m\u001b[0;32m      4\u001b[0m \u001b[1;31m#It gives a KeyError as there is no key called 'foo' in spam\u001b[0m\u001b[1;33m\u001b[0m\u001b[1;33m\u001b[0m\u001b[1;33m\u001b[0m\u001b[0m\n",
      "\u001b[1;31mKeyError\u001b[0m: 'foo'"
     ]
    }
   ],
   "source": [
    "#4. What happens if you try to access spam[&#39;foo&#39;] if spam is {&#39;bar&#39;: 100}?\n",
    "spam = {'bar':100}\n",
    "spam['foo']\n",
    "#It gives a KeyError as there is no key called 'foo' in spam"
   ]
  },
  {
   "cell_type": "code",
   "execution_count": 11,
   "metadata": {},
   "outputs": [
    {
     "name": "stdout",
     "output_type": "stream",
     "text": [
      "Value 'cat' exists\n"
     ]
    }
   ],
   "source": [
    "#5. What is the difference between the terms 'cat' in spam and 'cat' in spam if a dictionary is contained in spam.keys()?\n",
    "\n",
    "#6. What is the difference between the terms 'cat' in spam and 'cat' in spam.values() when a dictionary is contained in spam?\n",
    "\n",
    "# dictionary called spam\n",
    "spam = {'name': 'cat', 'weight':20, 'colour':'white'}\n",
    "\n",
    "# Code below searches if there is any key in the dictionary which matches with 'cat' and then process the statements accordinly.\n",
    "if 'cat' in spam:\n",
    "    print ('cat')\n",
    "# As there is no key called 'cat' the if condition fails.\n",
    "# the below code also searches if there is any key called 'cat' and if so, print the statement.\n",
    "if 'cat' in spam.keys():\n",
    "    print('Key called \\'cat\\' exists')\n",
    "# As there is no key called 'cat' the condition evaluates to False.\n",
    "\n",
    "\n",
    "#The below code searches for a value called 'cat' in the dictionary spam and if it exists prints the value \n",
    "if 'cat' in spam.values():\n",
    "    print(\"Value 'cat' exists\")\n",
    "    \n",
    "# Here the the value 'cat' exists in the dictionary spam. So the if condition is succesful and prints the value"
   ]
  },
  {
   "cell_type": "code",
   "execution_count": 12,
   "metadata": {},
   "outputs": [
    {
     "name": "stdout",
     "output_type": "stream",
     "text": [
      "{'name': 'cat', 'weight': 10}\n",
      "{'name': 'cat', 'weight': 10, 'color': 'Black'}\n"
     ]
    }
   ],
   "source": [
    "#7. What is the quickest way to type the following code?\n",
    "\n",
    "#if the word 'colour' isn't in spam:\n",
    "#'black' for spam['color']\n",
    "\n",
    "#Ans\n",
    "\n",
    "spam = {'name': 'cat', 'weight':10}\n",
    "\n",
    "print (spam)\n",
    "spam.setdefault('color','Black')\n",
    "print (spam)"
   ]
  },
  {
   "cell_type": "code",
   "execution_count": 20,
   "metadata": {},
   "outputs": [
    {
     "name": "stdout",
     "output_type": "stream",
     "text": [
      "Pretty printing\n",
      "{'color': {'red', 'green', 'blue'}, 'name': 'cat', 'weight': 10}\n",
      "Normal printing\n",
      "{'name': 'cat', 'weight': 10, 'color': {'red', 'green', 'blue'}}\n"
     ]
    }
   ],
   "source": [
    "#8. How do you \"pretty print\" dictionary values using which module and function?\n",
    "#(Ans)\n",
    "\n",
    "spam = {'name': 'cat', 'weight':10, 'color':{'red','blue','green'}}\n",
    "import pprint\n",
    "print(\"Pretty printing\")\n",
    "pprint.pprint(spam)\n",
    "print(\"Normal printing\")\n",
    "print(spam)"
   ]
  },
  {
   "cell_type": "code",
   "execution_count": null,
   "metadata": {},
   "outputs": [],
   "source": []
  }
 ],
 "metadata": {
  "kernelspec": {
   "display_name": "Python 3",
   "language": "python",
   "name": "python3"
  },
  "language_info": {
   "codemirror_mode": {
    "name": "ipython",
    "version": 3
   },
   "file_extension": ".py",
   "mimetype": "text/x-python",
   "name": "python",
   "nbconvert_exporter": "python",
   "pygments_lexer": "ipython3",
   "version": "3.8.5"
  }
 },
 "nbformat": 4,
 "nbformat_minor": 4
}
